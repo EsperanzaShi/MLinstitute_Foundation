{
 "cells": [
  {
   "cell_type": "code",
   "execution_count": null,
   "metadata": {
    "collapsed": false,
    "jupyter": {
     "outputs_hidden": false
    }
   },
   "outputs": [],
   "source": [
    "# For tips on running notebooks in Google Colab, see\n",
    "# https://pytorch.org/tutorials/beginner/colab\n",
    "%matplotlib inline"
   ]
  },
  {
   "cell_type": "markdown",
   "metadata": {},
   "source": [
    "[Learn the Basics](intro.html) \\|\\| **Quickstart** \\|\\|\n",
    "[Tensors](tensorqs_tutorial.html) \\|\\| [Datasets &\n",
    "DataLoaders](data_tutorial.html) \\|\\|\n",
    "[Transforms](transforms_tutorial.html) \\|\\| [Build\n",
    "Model](buildmodel_tutorial.html) \\|\\|\n",
    "[Autograd](autogradqs_tutorial.html) \\|\\|\n",
    "[Optimization](optimization_tutorial.html) \\|\\| [Save & Load\n",
    "Model](saveloadrun_tutorial.html)\n",
    "\n",
    "Quickstart\n",
    "==========\n",
    "\n",
    "This section runs through the API for common tasks in machine learning.\n",
    "Refer to the links in each section to dive deeper.\n",
    "\n",
    "Working with data\n",
    "-----------------\n",
    "\n",
    "PyTorch has two [primitives to work with\n",
    "data](https://pytorch.org/docs/stable/data.html):\n",
    "`torch.utils.data.DataLoader` and `torch.utils.data.Dataset`. `Dataset`\n",
    "stores the samples and their corresponding labels, and `DataLoader`\n",
    "wraps an iterable around the `Dataset`.\n"
   ]
  },
  {
   "cell_type": "code",
   "execution_count": 1,
   "metadata": {
    "collapsed": false,
    "jupyter": {
     "outputs_hidden": false
    }
   },
   "outputs": [],
   "source": [
    "import torch\n",
    "from torch import nn\n",
    "from torch.utils.data import DataLoader\n",
    "from torchvision import datasets\n",
    "from torchvision.transforms import ToTensor"
   ]
  },
  {
   "cell_type": "markdown",
   "metadata": {},
   "source": [
    "PyTorch offers domain-specific libraries such as\n",
    "[TorchText](https://pytorch.org/text/stable/index.html),\n",
    "[TorchVision](https://pytorch.org/vision/stable/index.html), and\n",
    "[TorchAudio](https://pytorch.org/audio/stable/index.html), all of which\n",
    "include datasets. For this tutorial, we will be using a TorchVision\n",
    "dataset.\n",
    "\n",
    "The `torchvision.datasets` module contains `Dataset` objects for many\n",
    "real-world vision data like CIFAR, COCO ([full list\n",
    "here](https://pytorch.org/vision/stable/datasets.html)). In this\n",
    "tutorial, we use the FashionMNIST dataset. Every TorchVision `Dataset`\n",
    "includes two arguments: `transform` and `target_transform` to modify the\n",
    "samples and labels respectively.\n"
   ]
  },
  {
   "cell_type": "code",
   "execution_count": 2,
   "metadata": {
    "collapsed": false,
    "jupyter": {
     "outputs_hidden": false
    }
   },
   "outputs": [
    {
     "name": "stderr",
     "output_type": "stream",
     "text": [
      "100.0%\n",
      "100.0%\n",
      "100.0%\n",
      "100.0%\n"
     ]
    }
   ],
   "source": [
    "# Download training data from open datasets.\n",
    "training_data = datasets.FashionMNIST(\n",
    "    root=\"data\",\n",
    "    train=True,\n",
    "    download=True,\n",
    "    transform=ToTensor(),\n",
    ")\n",
    "\n",
    "# Download test data from open datasets.\n",
    "test_data = datasets.FashionMNIST(\n",
    "    root=\"data\",\n",
    "    train=False,\n",
    "    download=True,\n",
    "    transform=ToTensor(),\n",
    ")"
   ]
  },
  {
   "cell_type": "markdown",
   "metadata": {},
   "source": [
    "We pass the `Dataset` as an argument to `DataLoader`. This wraps an\n",
    "iterable over our dataset, and supports automatic batching, sampling,\n",
    "shuffling and multiprocess data loading. Here we define a batch size of\n",
    "64, i.e. each element in the dataloader iterable will return a batch of\n",
    "64 features and labels.\n"
   ]
  },
  {
   "cell_type": "code",
   "execution_count": 3,
   "metadata": {
    "collapsed": false,
    "jupyter": {
     "outputs_hidden": false
    }
   },
   "outputs": [
    {
     "name": "stdout",
     "output_type": "stream",
     "text": [
      "Shape of X [N, C, H, W]: torch.Size([64, 1, 28, 28])\n",
      "Shape of y: torch.Size([64]) torch.int64\n"
     ]
    }
   ],
   "source": [
    "batch_size = 64\n",
    "\n",
    "# Create data loaders.\n",
    "train_dataloader = DataLoader(training_data, batch_size=batch_size)\n",
    "test_dataloader = DataLoader(test_data, batch_size=batch_size)\n",
    "\n",
    "for X, y in test_dataloader:\n",
    "    print(f\"Shape of X [N, C, H, W]: {X.shape}\")\n",
    "    print(f\"Shape of y: {y.shape} {y.dtype}\")\n",
    "    break"
   ]
  },
  {
   "cell_type": "markdown",
   "metadata": {},
   "source": [
    "Read more about [loading data in PyTorch](data_tutorial.html).\n"
   ]
  },
  {
   "cell_type": "markdown",
   "metadata": {},
   "source": [
    "------------------------------------------------------------------------\n"
   ]
  },
  {
   "cell_type": "markdown",
   "metadata": {},
   "source": [
    "Creating Models\n",
    "===============\n",
    "\n",
    "To define a neural network in PyTorch, we create a class that inherits\n",
    "from\n",
    "[nn.Module](https://pytorch.org/docs/stable/generated/torch.nn.Module.html).\n",
    "We define the layers of the network in the `__init__` function and\n",
    "specify how data will pass through the network in the `forward`\n",
    "function. To accelerate operations in the neural network, we move it to\n",
    "the\n",
    "[accelerator](https://pytorch.org/docs/stable/torch.html#accelerators)\n",
    "such as CUDA, MPS, MTIA, or XPU. If the current accelerator is\n",
    "available, we will use it. Otherwise, we use the CPU.\n"
   ]
  },
  {
   "cell_type": "code",
   "execution_count": 4,
   "metadata": {
    "collapsed": false,
    "jupyter": {
     "outputs_hidden": false
    }
   },
   "outputs": [
    {
     "name": "stdout",
     "output_type": "stream",
     "text": [
      "Using mps device\n",
      "NeuralNetwork(\n",
      "  (flatten): Flatten(start_dim=1, end_dim=-1)\n",
      "  (linear_relu_stack): Sequential(\n",
      "    (0): Linear(in_features=784, out_features=512, bias=True)\n",
      "    (1): ReLU()\n",
      "    (2): Linear(in_features=512, out_features=512, bias=True)\n",
      "    (3): ReLU()\n",
      "    (4): Linear(in_features=512, out_features=10, bias=True)\n",
      "  )\n",
      ")\n"
     ]
    }
   ],
   "source": [
    "device = torch.accelerator.current_accelerator().type if torch.accelerator.is_available() else \"cpu\"\n",
    "print(f\"Using {device} device\")\n",
    "\n",
    "# Define model\n",
    "class NeuralNetwork(nn.Module):\n",
    "    def __init__(self): #This is the constructor method that initializes the layers and attributes of the network.\n",
    "        super().__init__() #Calls the constructor of the parent class (nn.Module) to ensure that the module is properly initialized.\n",
    "        self.flatten = nn.Flatten() #Creates a layer that flattens multi-dimensional input data.\n",
    "        self.linear_relu_stack = nn.Sequential(\n",
    "            nn.Linear(28*28, 512),\n",
    "            nn.ReLU(),\n",
    "            nn.Linear(512, 512),\n",
    "            nn.ReLU(),\n",
    "            nn.Linear(512, 10)\n",
    "        ) #Defines a sequential container that holds a series of layers.\n",
    "\n",
    "    def forward(self, x):\n",
    "        x = self.flatten(x) #If x originally has shape [batch_size, 1, 28, 28], it becomes [batch_size, 784].\n",
    "        logits = self.linear_relu_stack(x) #Passes the flattened data through the series of linear and ReLU layers defined earlier.\n",
    "        return logits #Outputs the computed logits, which can then be used (for example) with a loss function like cross-entropy during training.\n",
    "\n",
    "model = NeuralNetwork().to(device)\n",
    "print(model)"
   ]
  },
  {
   "cell_type": "markdown",
   "metadata": {},
   "source": [
    "Read more about [building neural networks in\n",
    "PyTorch](buildmodel_tutorial.html).\n"
   ]
  },
  {
   "cell_type": "markdown",
   "metadata": {},
   "source": [
    "------------------------------------------------------------------------\n"
   ]
  },
  {
   "cell_type": "markdown",
   "metadata": {},
   "source": [
    "Optimizing the Model Parameters\n",
    "===============================\n",
    "\n",
    "To train a model, we need a [loss\n",
    "function](https://pytorch.org/docs/stable/nn.html#loss-functions) and an\n",
    "[optimizer](https://pytorch.org/docs/stable/optim.html).\n"
   ]
  },
  {
   "cell_type": "code",
   "execution_count": 8,
   "metadata": {
    "collapsed": false,
    "jupyter": {
     "outputs_hidden": false
    }
   },
   "outputs": [],
   "source": [
    "loss_fn = nn.CrossEntropyLoss()\n",
    "optimizer = torch.optim.SGD(model.parameters(), lr=1e-3) #Stochastic Gradient Descent; \n",
    "#This retrieves all the parameters (weights and biases) of the model so that they can be updated during training.; \n",
    "# lr is 'learning rate'"
   ]
  },
  {
   "cell_type": "markdown",
   "metadata": {},
   "source": [
    "In a single training loop, the model makes predictions on the training\n",
    "dataset (fed to it in batches), and backpropagates the prediction error\n",
    "to adjust the model\\'s parameters.\n"
   ]
  },
  {
   "cell_type": "code",
   "execution_count": 9,
   "metadata": {
    "collapsed": false,
    "jupyter": {
     "outputs_hidden": false
    }
   },
   "outputs": [],
   "source": [
    "def train(dataloader, model, loss_fn, optimizer):\n",
    "    size = len(dataloader.dataset)\n",
    "    model.train() #Puts the model into “training mode.”\n",
    "    for batch, (X, y) in enumerate(dataloader):\n",
    "        X, y = X.to(device), y.to(device)\n",
    "\n",
    "        # Compute prediction error\n",
    "        pred = model(X) #Passes the batch of data (X) through the model.\n",
    "        loss = loss_fn(pred, y)\n",
    "\n",
    "        # Backpropagation\n",
    "        loss.backward() #Uses the chain rule of calculus (backpropagation) to calculate how much each parameter contributed to the loss.\n",
    "        optimizer.step() #The optimizer applies the stochastic gradient descent update rule: parameters are adjusted in the direction that reduces the loss.\n",
    "        optimizer.zero_grad() #In PyTorch, gradients are accumulated by default. Clearing them before the next iteration ensures that they don’t mix with gradients from the previous batch.\n",
    "\n",
    "        if batch % 100 == 0: #To log information (such as the loss) periodically (every 100 batches).\n",
    "            loss, current = loss.item(), (batch + 1) * len(X) #batch + 1 ensures you are counting batches starting from 1 (not 0), and multiplying by the batch size (len(X)) gives the total number of samples processed up to that batch.\n",
    "            print(f\"loss: {loss:>7f}  [{current:>5d}/{size:>5d}]\")"
   ]
  },
  {
   "cell_type": "markdown",
   "metadata": {},
   "source": [
    "We also check the model\\'s performance against the test dataset to\n",
    "ensure it is learning.\n"
   ]
  },
  {
   "cell_type": "code",
   "execution_count": 10,
   "metadata": {
    "collapsed": false,
    "jupyter": {
     "outputs_hidden": false
    }
   },
   "outputs": [],
   "source": [
    "def test(dataloader, model, loss_fn):\n",
    "    size = len(dataloader.dataset)\n",
    "    num_batches = len(dataloader)\n",
    "    model.eval() #Puts the model into evaluation mode.\n",
    "    test_loss, correct = 0, 0\n",
    "    #test_loss:To accumulate the total loss over all batches.\n",
    "    #correct:To count the number of correct predictions over the entire test set.\n",
    "    with torch.no_grad(): #During evaluation, backpropagation is not required. Disabling gradients speeds up computation and reduces memory usage.\n",
    "        for X, y in dataloader:\n",
    "            X, y = X.to(device), y.to(device)\n",
    "            pred = model(X)\n",
    "            test_loss += loss_fn(pred, y).item() #.item() converts the loss tensor (containing a single value) into a plain Python number.\n",
    "            correct += (pred.argmax(1) == y).type(torch.float).sum().item() \n",
    "            #pred.argmax(1):For each row (each example), pick the column index where the value is highest.(Dimension 1 indexes the scores for each class of a single example.)\n",
    "    test_loss /= num_batches #Divides the accumulated loss by the total number of batches to compute the average test loss.\n",
    "    correct /= size #Divides the total number of correct predictions by the total number of examples in the test dataset.\n",
    "    print(f\"Test Error: \\n Accuracy: {(100*correct):>0.1f}%, Avg loss: {test_loss:>8f} \\n\")"
   ]
  },
  {
   "cell_type": "markdown",
   "metadata": {},
   "source": [
    "The training process is conducted over several iterations (*epochs*).\n",
    "During each epoch, the model learns parameters to make better\n",
    "predictions. We print the model\\'s accuracy and loss at each epoch;\n",
    "we\\'d like to see the accuracy increase and the loss decrease with every\n",
    "epoch.\n"
   ]
  },
  {
   "cell_type": "code",
   "execution_count": 11,
   "metadata": {
    "collapsed": false,
    "jupyter": {
     "outputs_hidden": false
    }
   },
   "outputs": [
    {
     "name": "stdout",
     "output_type": "stream",
     "text": [
      "Epoch 1\n",
      "-------------------------------\n",
      "loss: 2.303369  [   64/60000]\n",
      "loss: 2.291822  [ 6464/60000]\n",
      "loss: 2.268647  [12864/60000]\n",
      "loss: 2.269489  [19264/60000]\n",
      "loss: 2.245412  [25664/60000]\n",
      "loss: 2.217676  [32064/60000]\n",
      "loss: 2.223586  [38464/60000]\n",
      "loss: 2.188106  [44864/60000]\n",
      "loss: 2.191463  [51264/60000]\n",
      "loss: 2.149230  [57664/60000]\n",
      "Test Error: \n",
      " Accuracy: 39.8%, Avg loss: 2.147522 \n",
      "\n",
      "Epoch 2\n",
      "-------------------------------\n",
      "loss: 2.162791  [   64/60000]\n",
      "loss: 2.145892  [ 6464/60000]\n",
      "loss: 2.084941  [12864/60000]\n",
      "loss: 2.104133  [19264/60000]\n",
      "loss: 2.043808  [25664/60000]\n",
      "loss: 1.996912  [32064/60000]\n",
      "loss: 2.011347  [38464/60000]\n",
      "loss: 1.937437  [44864/60000]\n",
      "loss: 1.945646  [51264/60000]\n",
      "loss: 1.856180  [57664/60000]\n",
      "Test Error: \n",
      " Accuracy: 57.0%, Avg loss: 1.862577 \n",
      "\n",
      "Epoch 3\n",
      "-------------------------------\n",
      "loss: 1.902018  [   64/60000]\n",
      "loss: 1.864383  [ 6464/60000]\n",
      "loss: 1.744901  [12864/60000]\n",
      "loss: 1.784934  [19264/60000]\n",
      "loss: 1.670481  [25664/60000]\n",
      "loss: 1.644774  [32064/60000]\n",
      "loss: 1.643058  [38464/60000]\n",
      "loss: 1.560071  [44864/60000]\n",
      "loss: 1.583880  [51264/60000]\n",
      "loss: 1.467562  [57664/60000]\n",
      "Test Error: \n",
      " Accuracy: 59.6%, Avg loss: 1.495622 \n",
      "\n",
      "Epoch 4\n",
      "-------------------------------\n",
      "loss: 1.564732  [   64/60000]\n",
      "loss: 1.531256  [ 6464/60000]\n",
      "loss: 1.381656  [12864/60000]\n",
      "loss: 1.452265  [19264/60000]\n",
      "loss: 1.336627  [25664/60000]\n",
      "loss: 1.349304  [32064/60000]\n",
      "loss: 1.345636  [38464/60000]\n",
      "loss: 1.281980  [44864/60000]\n",
      "loss: 1.314581  [51264/60000]\n",
      "loss: 1.211134  [57664/60000]\n",
      "Test Error: \n",
      " Accuracy: 63.0%, Avg loss: 1.241816 \n",
      "\n",
      "Epoch 5\n",
      "-------------------------------\n",
      "loss: 1.318154  [   64/60000]\n",
      "loss: 1.301985  [ 6464/60000]\n",
      "loss: 1.135289  [12864/60000]\n",
      "loss: 1.241976  [19264/60000]\n",
      "loss: 1.122019  [25664/60000]\n",
      "loss: 1.158499  [32064/60000]\n",
      "loss: 1.167816  [38464/60000]\n",
      "loss: 1.111171  [44864/60000]\n",
      "loss: 1.148533  [51264/60000]\n",
      "loss: 1.060905  [57664/60000]\n",
      "Test Error: \n",
      " Accuracy: 64.5%, Avg loss: 1.084531 \n",
      "\n",
      "Done!\n"
     ]
    }
   ],
   "source": [
    "epochs = 5\n",
    "for t in range(epochs):\n",
    "    print(f\"Epoch {t+1}\\n-------------------------------\")\n",
    "    train(train_dataloader, model, loss_fn, optimizer)\n",
    "    test(test_dataloader, model, loss_fn)\n",
    "print(\"Done!\")"
   ]
  },
  {
   "cell_type": "markdown",
   "metadata": {},
   "source": [
    "Read more about [Training your model](optimization_tutorial.html).\n"
   ]
  },
  {
   "cell_type": "markdown",
   "metadata": {},
   "source": [
    "------------------------------------------------------------------------\n"
   ]
  },
  {
   "cell_type": "markdown",
   "metadata": {},
   "source": [
    "Saving Models\n",
    "=============\n",
    "\n",
    "A common way to save a model is to serialize the internal state\n",
    "dictionary (containing the model parameters).\n"
   ]
  },
  {
   "cell_type": "code",
   "execution_count": 12,
   "metadata": {
    "collapsed": false,
    "jupyter": {
     "outputs_hidden": false
    }
   },
   "outputs": [
    {
     "name": "stdout",
     "output_type": "stream",
     "text": [
      "Saved PyTorch Model State to model.pth\n"
     ]
    }
   ],
   "source": [
    "torch.save(model.state_dict(), \"model.pth\")\n",
    "print(\"Saved PyTorch Model State to model.pth\")"
   ]
  },
  {
   "cell_type": "markdown",
   "metadata": {},
   "source": [
    "Loading Models\n",
    "==============\n",
    "\n",
    "The process for loading a model includes re-creating the model structure\n",
    "and loading the state dictionary into it.\n"
   ]
  },
  {
   "cell_type": "code",
   "execution_count": 13,
   "metadata": {
    "collapsed": false,
    "jupyter": {
     "outputs_hidden": false
    }
   },
   "outputs": [
    {
     "data": {
      "text/plain": [
       "<All keys matched successfully>"
      ]
     },
     "execution_count": 13,
     "metadata": {},
     "output_type": "execute_result"
    }
   ],
   "source": [
    "model = NeuralNetwork().to(device)\n",
    "model.load_state_dict(torch.load(\"model.pth\", weights_only=True)) \n",
    "#takes that dictionary and copies each tensor into the matching parameter of your newly created model instance—restoring it to the exact state it was in when you saved it."
   ]
  },
  {
   "cell_type": "markdown",
   "metadata": {},
   "source": [
    "This model can now be used to make predictions.\n"
   ]
  },
  {
   "cell_type": "code",
   "execution_count": 18,
   "metadata": {
    "collapsed": false,
    "jupyter": {
     "outputs_hidden": false
    }
   },
   "outputs": [
    {
     "name": "stdout",
     "output_type": "stream",
     "text": [
      "Sample  0 — Predicted: Ankle boot    |  Actual: Ankle boot\n",
      "Sample  1 — Predicted: Pullover      |  Actual: Pullover\n",
      "Sample  2 — Predicted: Trouser       |  Actual: Trouser\n",
      "Sample  3 — Predicted: Trouser       |  Actual: Trouser\n",
      "Sample  4 — Predicted: Pullover      |  Actual: Shirt\n",
      "Sample  5 — Predicted: Trouser       |  Actual: Trouser\n",
      "Sample  6 — Predicted: Coat          |  Actual: Coat\n",
      "Sample  7 — Predicted: Coat          |  Actual: Shirt\n",
      "Sample  8 — Predicted: Sneaker       |  Actual: Sandal\n",
      "Sample  9 — Predicted: Sneaker       |  Actual: Sneaker\n",
      "Sample 10 — Predicted: Coat          |  Actual: Coat\n",
      "Sample 11 — Predicted: Sneaker       |  Actual: Sandal\n",
      "Sample 12 — Predicted: Sneaker       |  Actual: Sneaker\n",
      "Sample 13 — Predicted: Dress         |  Actual: Dress\n",
      "Sample 14 — Predicted: Coat          |  Actual: Coat\n",
      "Sample 15 — Predicted: Trouser       |  Actual: Trouser\n",
      "Sample 16 — Predicted: Pullover      |  Actual: Pullover\n",
      "Sample 17 — Predicted: Pullover      |  Actual: Coat\n",
      "Sample 18 — Predicted: Bag           |  Actual: Bag\n",
      "Sample 19 — Predicted: T-shirt/top   |  Actual: T-shirt/top\n",
      "Sample 20 — Predicted: Pullover      |  Actual: Pullover\n",
      "Sample 21 — Predicted: Sneaker       |  Actual: Sandal\n",
      "Sample 22 — Predicted: Sneaker       |  Actual: Sneaker\n",
      "Sample 23 — Predicted: Sneaker       |  Actual: Ankle boot\n",
      "Sample 24 — Predicted: Trouser       |  Actual: Trouser\n",
      "Sample 25 — Predicted: Pullover      |  Actual: Coat\n",
      "Sample 26 — Predicted: Coat          |  Actual: Shirt\n",
      "Sample 27 — Predicted: Dress         |  Actual: T-shirt/top\n",
      "Sample 28 — Predicted: Ankle boot    |  Actual: Ankle boot\n",
      "Sample 29 — Predicted: Dress         |  Actual: Dress\n",
      "Sample 30 — Predicted: Bag           |  Actual: Bag\n",
      "Sample 31 — Predicted: Shirt         |  Actual: Bag\n",
      "Sample 32 — Predicted: Dress         |  Actual: Dress\n",
      "Sample 33 — Predicted: Dress         |  Actual: Dress\n",
      "Sample 34 — Predicted: Bag           |  Actual: Bag\n",
      "Sample 35 — Predicted: T-shirt/top   |  Actual: T-shirt/top\n",
      "Sample 36 — Predicted: Sneaker       |  Actual: Sneaker\n",
      "Sample 37 — Predicted: Sneaker       |  Actual: Sandal\n",
      "Sample 38 — Predicted: Sneaker       |  Actual: Sneaker\n",
      "Sample 39 — Predicted: Ankle boot    |  Actual: Ankle boot\n",
      "Sample 40 — Predicted: T-shirt/top   |  Actual: Shirt\n",
      "Sample 41 — Predicted: Trouser       |  Actual: Trouser\n",
      "Sample 42 — Predicted: T-shirt/top   |  Actual: Dress\n",
      "Sample 43 — Predicted: Ankle boot    |  Actual: Sneaker\n",
      "Sample 44 — Predicted: Coat          |  Actual: Shirt\n",
      "Sample 45 — Predicted: Ankle boot    |  Actual: Sneaker\n",
      "Sample 46 — Predicted: Pullover      |  Actual: Pullover\n",
      "Sample 47 — Predicted: Trouser       |  Actual: Trouser\n",
      "Sample 48 — Predicted: Coat          |  Actual: Pullover\n",
      "Sample 49 — Predicted: Pullover      |  Actual: Pullover\n",
      "Sample 50 — Predicted: Pullover      |  Actual: Coat\n",
      "Sample 51 — Predicted: Pullover      |  Actual: Coat\n",
      "Sample 52 — Predicted: Sneaker       |  Actual: Sandal\n",
      "Sample 53 — Predicted: Pullover      |  Actual: Bag\n",
      "Sample 54 — Predicted: Coat          |  Actual: Pullover\n",
      "Sample 55 — Predicted: Pullover      |  Actual: Pullover\n",
      "Sample 56 — Predicted: Bag           |  Actual: Bag\n",
      "Sample 57 — Predicted: Coat          |  Actual: Coat\n",
      "Sample 58 — Predicted: Bag           |  Actual: Bag\n",
      "Sample 59 — Predicted: T-shirt/top   |  Actual: T-shirt/top\n",
      "Sample 60 — Predicted: Sneaker       |  Actual: Sneaker\n",
      "Sample 61 — Predicted: Sneaker       |  Actual: Sneaker\n",
      "Sample 62 — Predicted: Bag           |  Actual: Bag\n",
      "Sample 63 — Predicted: Sneaker       |  Actual: Sandal\n"
     ]
    }
   ],
   "source": [
    "# 1. Define your human‐readable class names:\n",
    "classes = [\n",
    "    \"T-shirt/top\", \"Trouser\", \"Pullover\", \"Dress\", \"Coat\",\n",
    "    \"Sandal\", \"Shirt\", \"Sneaker\", \"Bag\", \"Ankle boot\",\n",
    "]\n",
    "\n",
    "# 2. Switch to evaluation mode and disable gradients:\n",
    "model.eval()\n",
    "with torch.no_grad():\n",
    "\n",
    "    # 3. Iterate over your test DataLoader (batches of images + labels):\n",
    "    for X_batch, y_batch in test_dataloader:\n",
    "        # Move both inputs and labels to the correct device (CPU/GPU)\n",
    "        X_batch, y_batch = X_batch.to(device), y_batch.to(device)\n",
    "\n",
    "        # 4. Run the batch through the model\n",
    "        preds = model(X_batch)                # shape: [batch_size, 10]\n",
    "\n",
    "        # 5. Find the index of the highest logit for each example\n",
    "        predicted_indices = preds.argmax(dim=1)  # shape: [batch_size]\n",
    "\n",
    "        # 6. Convert indices to human-readable labels\n",
    "        predicted_labels = [classes[idx] for idx in predicted_indices]\n",
    "        actual_labels    = [classes[int(y)] for y in y_batch]\n",
    "\n",
    "        # 7. Print out each example in the batch\n",
    "        for i, (pred_label, true_label) in enumerate(zip(predicted_labels, actual_labels)):\n",
    "            print(f\"Sample {i:2d} — Predicted: {pred_label:12s}  |  Actual: {true_label}\")\n",
    "\n",
    "        # If you only want to inspect the first batch, break here:\n",
    "        break"
   ]
  },
  {
   "cell_type": "markdown",
   "metadata": {},
   "source": [
    "Read more about [Saving & Loading your\n",
    "model](saveloadrun_tutorial.html).\n"
   ]
  },
  {
   "cell_type": "code",
   "execution_count": null,
   "metadata": {},
   "outputs": [],
   "source": []
  }
 ],
 "metadata": {
  "kernelspec": {
   "display_name": "Python 3 (ipykernel)",
   "language": "python",
   "name": "python3"
  },
  "language_info": {
   "codemirror_mode": {
    "name": "ipython",
    "version": 3
   },
   "file_extension": ".py",
   "mimetype": "text/x-python",
   "name": "python",
   "nbconvert_exporter": "python",
   "pygments_lexer": "ipython3",
   "version": "3.10.4"
  }
 },
 "nbformat": 4,
 "nbformat_minor": 4
}
